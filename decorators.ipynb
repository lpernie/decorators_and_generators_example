{
 "cells": [
  {
   "cell_type": "markdown",
   "metadata": {},
   "source": [
    "# <center> Decorators\n",
    "\n",
    "A **decorator** is any <ins>callable object that is used to modify a function or class</ins>. A reference to a function or a class is passed to a decorator, and the decorator returns a modified function or class.  \n",
    "The modified functions or classes usually contain calls to the original function or class.\n",
    "\n",
    "We have <ins>two kinds</ins> of decorators in Python:   \n",
    ". Function decorators   \n",
    ". Class decorators   \n",
    "\n",
    "\n",
    "Note: the material used in this noebook has been taken from: [link](https://www.python-course.eu/python3_decorators.php)."
   ]
  },
  {
   "cell_type": "markdown",
   "metadata": {},
   "source": [
    "## 1. Functions in python\n",
    "### 1.1 Functions inside functions"
   ]
  },
  {
   "cell_type": "code",
   "execution_count": null,
   "metadata": {},
   "outputs": [],
   "source": [
    "# Function names are references to functions\n",
    "def succ(x):\n",
    "    return x + 1\n",
    "\n",
    "# We can assign multiple names to the same functio\n",
    "successor = succ\n",
    "print('1) succ() and successor() give the same result:', successor(10), '=', succ(10))\n",
    "\n",
    "# Removing succ() is not affecting successor() size they both refer to the same function indipendently\n",
    "del succ\n",
    "print('successor() is still available after deleting succ(): ', successor(10))"
   ]
  },
  {
   "cell_type": "code",
   "execution_count": null,
   "metadata": {},
   "outputs": [],
   "source": [
    "# You can define functions inside of a function (not possible in C++)\n",
    "def f():    \n",
    "    def g():\n",
    "        print(\"Hi, it's me 'g'\")\n",
    "        print(\"Thanks for calling me\")\n",
    "        \n",
    "    print(\"This is the function 'f'\")\n",
    "    print(\"I am calling 'g' now:\")\n",
    "    g()\n",
    "\n",
    "# Note the order of the printout.\n",
    "f()"
   ]
  },
  {
   "cell_type": "markdown",
   "metadata": {},
   "source": [
    "### 1.2 Functions as paramters"
   ]
  },
  {
   "cell_type": "code",
   "execution_count": null,
   "metadata": {},
   "outputs": [],
   "source": [
    "#  It gets useful in combination with two further powerful possibilities of Python functions. Due to the fact that every parameter of a function is a reference to an object and functions are objects as well, we can pass functions - or better \"references to functions\" - as parameters to a function.\n",
    "import math\n",
    "\n",
    "def foo(func):\n",
    "    print(\"The function \" + func.__name__ + \" was passed to foo\")\n",
    "    res = 0\n",
    "    for x in [1, 2, 2.5]:\n",
    "        res += func(x)\n",
    "    return res\n",
    "\n",
    "print(foo(math.sin))\n",
    "print(foo(math.cos))"
   ]
  },
  {
   "cell_type": "markdown",
   "metadata": {},
   "source": [
    "### 1.3 Functions returning Functions"
   ]
  },
  {
   "cell_type": "code",
   "execution_count": null,
   "metadata": {},
   "outputs": [],
   "source": [
    "# The output of a function is also a reference to an object: Functions can return references to function objects.\n",
    "def polynomial_creator(*coeffs):\n",
    "    # Coefficients are in the form a_n, a_n_1, ... a_1, a_0 \n",
    "    def polynomial(x):\n",
    "        res = coeffs[0]\n",
    "        for i in range(1, len(coeffs)):\n",
    "            res = res * x + coeffs[i]\n",
    "        return res\n",
    "                 \n",
    "    return polynomial\n",
    "\n",
    "p1 = polynomial_creator(4)  # p1 is a function. You call p1(value) and you get a number.\n",
    "p2 = polynomial_creator(2, 4)  # Same for p2\n",
    "p3 = polynomial_creator(1, 8, -1, 3, 2)  # Same for p3\n",
    "\n",
    "x = 1.5\n",
    "print(f'x={x}; p1(x)={p1(x)}; p2(x)={p2(x)}; p3(x)={p3(x)};')"
   ]
  },
  {
   "cell_type": "markdown",
   "metadata": {},
   "source": [
    "## 2 Introduction to decorators"
   ]
  },
  {
   "cell_type": "code",
   "execution_count": null,
   "metadata": {},
   "outputs": [],
   "source": [
    "# Decorators are functions that takes other function as input. They return a modified version of the input function.\n",
    "def our_decorator(func):  # The decorator takes func as input\n",
    "    def function_wrapper(x):  # It contains another fucntion \n",
    "        print(\"Before calling \" + func.__name__)\n",
    "        func(x) \n",
    "        print(\"After calling \" + func.__name__)\n",
    "    return function_wrapper  # The decorator returns a new function, that calls the original func and does somethign extra\n",
    "\n",
    "def foo(x):\n",
    "    print(\"Hi, foo has been called with \" + str(x))\n",
    "\n",
    "print(\"1) We call foo('Hi') before decoration:\")\n",
    "foo(\"Hi\")\n",
    "    \n",
    "print(\"\\n2) We now decorate foo\")\n",
    "foo = our_decorator(foo)  # foo is now function_wrapper(x).\n",
    "\n",
    "print(\"\\n3) We call foo(42) after decoration:\")\n",
    "foo(42)"
   ]
  },
  {
   "cell_type": "markdown",
   "metadata": {},
   "source": [
    "**NOTE**: The decoration in Python is usually not performed in the way we did it in our previous example, since \"foo\" existed in the same program in two versions, before decoration and after decoration.  \n",
    "Instead of writing the statement: ```  foo = our_decorator(foo) ```\n",
    "we can write:   ```  @our_decorator    ```. Note that his line has to be directly positioned in front of the decorated function."
   ]
  },
  {
   "cell_type": "code",
   "execution_count": null,
   "metadata": {},
   "outputs": [],
   "source": [
    "def our_decorator(func):\n",
    "    def function_wrapper(x):\n",
    "        print(\"Before calling \" + func.__name__)\n",
    "        func(x)\n",
    "        print(\"After calling \" + func.__name__)\n",
    "    return function_wrapper\n",
    "\n",
    "@our_decorator\n",
    "def foo(x):\n",
    "    print(\"Hi, foo has been called with \" + str(x))\n",
    "\n",
    "foo(\"Hi\")  # Sicne you decorated foo, you are actually calling function_wrapper(x)"
   ]
  },
  {
   "cell_type": "markdown",
   "metadata": {},
   "source": [
    "## 3 Use cases for decorators\n",
    "### 3.1 Checking Arguments with a Decorator"
   ]
  },
  {
   "cell_type": "code",
   "execution_count": null,
   "metadata": {},
   "outputs": [],
   "source": [
    "def argument_test_natural_number(f):\n",
    "    def helper(x):\n",
    "        if type(x) == int and x > 0:\n",
    "            return f(x)\n",
    "        else:\n",
    "            print(\"Argument is not an integer\")\n",
    "    return helper\n",
    "    \n",
    "@argument_test_natural_number\n",
    "def factorial(n):\n",
    "    if n == 1:\n",
    "        return 1\n",
    "    else:\n",
    "        return n * factorial(n-1)\n",
    "\n",
    "print('factorial(5)', factorial(5))\n",
    "print('factorial(-1)', factorial(-1))"
   ]
  },
  {
   "cell_type": "markdown",
   "metadata": {},
   "source": [
    "### 3.2 Counting Function Calls with Decorators"
   ]
  },
  {
   "cell_type": "code",
   "execution_count": null,
   "metadata": {},
   "outputs": [],
   "source": [
    "def call_counter(func):\n",
    "    def helper(*args, **kwargs):\n",
    "        helper.calls += 1  # Every time you use the decorated function calls is increased by one\n",
    "        return func(*args, **kwargs)\n",
    "    helper.calls = 0  # This get called only when the decorator is placed\n",
    "\n",
    "    return helper\n",
    "\n",
    "@call_counter\n",
    "def succ(x):\n",
    "    return x + 1\n",
    "\n",
    "@call_counter\n",
    "def mul1(x, y=1):\n",
    "    return x*y + 1\n",
    "\n",
    "print('succ.calls =', succ.calls)\n",
    "for i in range(10):\n",
    "    succ(i)\n",
    "mul1(3, 4)\n",
    "mul1(4)\n",
    "mul1(y=3, x=2)\n",
    "    \n",
    "print('succ.calls =', succ.calls)\n",
    "print('mul1.calls =', mul1.calls)"
   ]
  },
  {
   "cell_type": "markdown",
   "metadata": {},
   "source": [
    "### 3.3 Decorators with Parameters\n",
    "We want to generalize the decorator, by giving him a parameter.  \n",
    "It menas we have to wrap another function around our previous decorator function to accomplish this.\n"
   ]
  },
  {
   "cell_type": "code",
   "execution_count": null,
   "metadata": {},
   "outputs": [],
   "source": [
    "def greeting(expr):  # The parameter will be defined once you apply the decorator with: @greeting(\"καλημερα\")\n",
    "    def greeting_decorator(func):\n",
    "        def function_wrapper(x):\n",
    "            print(expr + \", \" + func.__name__ + \" returns:\")\n",
    "            func(x)\n",
    "        return function_wrapper\n",
    "    return greeting_decorator  # You return: greeting_decorator(function_wrapper(x))\n",
    "\n",
    "@greeting(\"καλημερα\")\n",
    "def foo(x):\n",
    "    print(42)\n",
    "\n",
    "foo(\"Hi\") # You are executing greeting_decorator(function_wrapper('Hi'))"
   ]
  },
  {
   "cell_type": "markdown",
   "metadata": {},
   "source": [
    "### 3.4 Using wraps from functools\n",
    "The way we have defined decorators so far hasn't taken into account that the attributes:   \n",
    ". **\\_\\_name\\_\\_**: name of the function  \n",
    ". **\\_\\_doc\\_\\_**: the docstring  \n",
    ". **\\_\\_module\\_\\_**: The module in which the function is defined  \n",
    "of the original functions will be lost after the decoration.\n"
   ]
  },
  {
   "cell_type": "code",
   "execution_count": null,
   "metadata": {},
   "outputs": [],
   "source": [
    "# Example where the attributes are lost, and the decorators one are used instead\n",
    "def greeting(func):\n",
    "    def function_wrapper(x):\n",
    "        \"\"\" function_wrapper of greeting \"\"\"\n",
    "        print(\"Hi, \" + func.__name__ + \" returns:\")\n",
    "        return func(x)\n",
    "    return function_wrapper\n",
    "\n",
    "@greeting\n",
    "def f(x):\n",
    "    \"\"\" just some silly function \"\"\"\n",
    "    return x + 4\n",
    "\n",
    "print(f(10))\n",
    "print(\"function name: \" + f.__name__)  # It reflects function_wrapper\n",
    "print(\"docstring: \" + f.__doc__)\n",
    "print(\"module name: \" + f.__module__) "
   ]
  },
  {
   "cell_type": "markdown",
   "metadata": {},
   "source": [
    "**SOLUTION**: We can save the original attributes of the function f, if we assign them inside of the decorator. \n",
    "We change our previous decorator accordingly and save it as"
   ]
  },
  {
   "cell_type": "code",
   "execution_count": null,
   "metadata": {},
   "outputs": [],
   "source": [
    "def greeting(func):\n",
    "    def function_wrapper(x):\n",
    "        \"\"\" function_wrapper of greeting \"\"\"\n",
    "        print(\"Hi, \" + func.__name__ + \" returns:\")\n",
    "        return func(x)\n",
    "    function_wrapper.__name__ = func.__name__  # If you want these attributes to change you need to impose it manually\n",
    "    function_wrapper.__doc__ = func.__doc__\n",
    "    function_wrapper.__module__ = func.__module__\n",
    "    return function_wrapper \n",
    "\n",
    "@greeting\n",
    "def f1(x):\n",
    "    \"\"\" just some silly function \"\"\"\n",
    "    return x + 4\n",
    "\n",
    "print(f1(10))\n",
    "print(\"function name: \" + f1.__name__)  # It reflects function_wrapper\n",
    "print(\"docstring: \" + f1.__doc__)\n",
    "print(\"module name: \" + f1.__module__) "
   ]
  },
  {
   "cell_type": "markdown",
   "metadata": {},
   "source": [
    "**NOTE**: this seems quite a bit of work, so you can actually using a default python method to make this change. We can import the decorator \"wraps\" from functools instead and decorate our function in the decorator with it:"
   ]
  },
  {
   "cell_type": "code",
   "execution_count": null,
   "metadata": {},
   "outputs": [],
   "source": [
    "from functools import wraps\n",
    "\n",
    "def greeting(func):\n",
    "    @wraps(func)  # This is transferring all the func methods value to function_wrapper for us.\n",
    "    def function_wrapper(x):\n",
    "        \"\"\" function_wrapper of greeting \"\"\"\n",
    "        print(\"Hi, \" + func.__name__ + \" returns:\")\n",
    "        return func(x)\n",
    "    return function_wrapper\n",
    "\n",
    "@greeting\n",
    "def f1(x):\n",
    "    \"\"\" just some silly function \"\"\"\n",
    "    return x + 4\n",
    "\n",
    "print(f1(10))\n",
    "print(\"function name: \" + f1.__name__)  # It reflects function_wrapper\n",
    "print(\"docstring: \" + f1.__doc__)\n",
    "print(\"module name: \" + f1.__module__) "
   ]
  },
  {
   "cell_type": "markdown",
   "metadata": {},
   "source": [
    "## 4. Classes instead of Functions\n",
    "Not only functions are callable objects. A callable object is an object which can be used and behaves like a function but might not be a function.  \n",
    "It is possible to define classes in a way that the instances will be callable objects. This is done using the ```__call__``` method.\n",
    "\n",
    "\n"
   ]
  },
  {
   "cell_type": "code",
   "execution_count": null,
   "metadata": {},
   "outputs": [],
   "source": [
    "class A:\n",
    "    def __init__(self):\n",
    "        print(\"An instance of A was initialized\")\n",
    "    \n",
    "    def __call__(self, *args, **kwargs):\n",
    "        print(\"Arguments are:\", args, kwargs)\n",
    "              \n",
    "x = A()\n",
    "print(\"Now calling the instance:\")\n",
    "x(3, 4, x=11, y=10)"
   ]
  },
  {
   "cell_type": "markdown",
   "metadata": {},
   "source": [
    "### 4.1 Using a Class as a decorator"
   ]
  },
  {
   "cell_type": "code",
   "execution_count": null,
   "metadata": {},
   "outputs": [],
   "source": [
    "# This decorator is a function\n",
    "def decorator1(f):\n",
    "    def helper():\n",
    "        print(\"Decorating\", f.__name__)\n",
    "        f()\n",
    "    return helper\n",
    "\n",
    "@decorator1\n",
    "def foo():\n",
    "    print(\"inside foo()\")\n",
    "\n",
    "foo()"
   ]
  },
  {
   "cell_type": "code",
   "execution_count": null,
   "metadata": {},
   "outputs": [],
   "source": [
    "# This decorator is a Class\n",
    "class decorator2:\n",
    "    def __init__(self, f):  # The function to modify is passed in the constructor\n",
    "        self.f = f\n",
    "    def __call__(self):\n",
    "        print(\"Decorating\", self.f.__name__)  # You czall the original function with the __call_ method\n",
    "        self.f()\n",
    "\n",
    "@decorator2\n",
    "def foo():\n",
    "    print(\"inside foo()\")\n",
    "\n",
    "foo() "
   ]
  },
  {
   "cell_type": "code",
   "execution_count": null,
   "metadata": {},
   "outputs": [],
   "source": []
  }
 ],
 "metadata": {
  "kernelspec": {
   "display_name": "Python 3",
   "language": "python",
   "name": "python3"
  },
  "language_info": {
   "codemirror_mode": {
    "name": "ipython",
    "version": 3
   },
   "file_extension": ".py",
   "mimetype": "text/x-python",
   "name": "python",
   "nbconvert_exporter": "python",
   "pygments_lexer": "ipython3",
   "version": "3.8.5"
  }
 },
 "nbformat": 4,
 "nbformat_minor": 4
}
